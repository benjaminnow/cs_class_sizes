{
 "cells": [
  {
   "cell_type": "markdown",
   "id": "94cfc8bf-5ce6-4809-9c36-f0ba134420c6",
   "metadata": {},
   "source": [
    "# CS Department Comparison"
   ]
  },
  {
   "cell_type": "markdown",
   "id": "f6bbcff3-1f67-471f-95ab-574badf6ca4b",
   "metadata": {},
   "source": [
    "## Data Collection"
   ]
  },
  {
   "cell_type": "code",
   "execution_count": null,
   "id": "5db504da-07f6-45e7-a122-92cbf443e185",
   "metadata": {},
   "outputs": [],
   "source": []
  }
 ],
 "metadata": {
  "kernelspec": {
   "display_name": "Python 3 (ipykernel)",
   "language": "python",
   "name": "python3"
  },
  "language_info": {
   "codemirror_mode": {
    "name": "ipython",
    "version": 3
   },
   "file_extension": ".py",
   "mimetype": "text/x-python",
   "name": "python",
   "nbconvert_exporter": "python",
   "pygments_lexer": "ipython3",
   "version": "3.9.7"
  }
 },
 "nbformat": 4,
 "nbformat_minor": 5
}
