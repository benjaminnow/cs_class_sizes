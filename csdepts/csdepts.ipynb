{
 "cells": [
  {
   "cell_type": "markdown",
   "id": "94cfc8bf-5ce6-4809-9c36-f0ba134420c6",
   "metadata": {},
   "source": [
    "# CS Department Comparison"
   ]
  },
  {
   "cell_type": "markdown",
   "id": "f6bbcff3-1f67-471f-95ab-574badf6ca4b",
   "metadata": {},
   "source": [
    "## Data Collection"
   ]
  },
  {
   "cell_type": "markdown",
   "id": "f5b842e5-e066-4571-9478-2ce419346b9f",
   "metadata": {},
   "source": [
    "### Class Data for UMD"
   ]
  },
  {
   "cell_type": "code",
   "execution_count": null,
   "id": "35af894d-b018-4409-b2fe-6711640612eb",
   "metadata": {},
   "outputs": [],
   "source": []
  }
 ],
 "metadata": {
  "kernelspec": {
   "display_name": "Python 3 (ipykernel)",
   "language": "python",
   "name": "python3"
  },
  "language_info": {
   "codemirror_mode": {
    "name": "ipython",
    "version": 3
   },
   "file_extension": ".py",
   "mimetype": "text/x-python",
   "name": "python",
   "nbconvert_exporter": "python",
   "pygments_lexer": "ipython3",
   "version": "3.9.7"
  }
 },
 "nbformat": 4,
 "nbformat_minor": 5
}
